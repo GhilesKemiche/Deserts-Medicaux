{
 "cells": [
  {
   "cell_type": "markdown",
   "id": "cf031a66",
   "metadata": {},
   "source": [
    "# Import des bibliothèques"
   ]
  },
  {
   "cell_type": "code",
   "execution_count": 37,
   "id": "6d6c6819",
   "metadata": {},
   "outputs": [],
   "source": [
    "import numpy as np\n",
    "from scipy import optimize\n",
    "import pandas as pd\n",
    "from scipy.optimize import root"
   ]
  },
  {
   "attachments": {},
   "cell_type": "markdown",
   "id": "587fb740",
   "metadata": {},
   "source": [
    "# Définition des trois modèles"
   ]
  },
  {
   "attachments": {},
   "cell_type": "markdown",
   "id": "34de4c76",
   "metadata": {},
   "source": [
    "## 2SFCA :\n",
    "\n",
    "$$\n",
    "W_{i j}=\\frac{1}{d_{i j}} \\hspace{5mm} \\text{et} \\hspace{5mm} \\mathbb{P}_{i j} \\propto W_{i j} \\hspace{2.5mm} \\text{ i.e } \\hspace{2.5mm} \\mathbb{P}_{i j}=\\frac{W_{i j}}{\\sum_{k} W_{i k}}\n",
    "$$"
   ]
  },
  {
   "cell_type": "code",
   "execution_count": 38,
   "id": "e9883a44",
   "metadata": {},
   "outputs": [],
   "source": [
    "def Prob_eval_SFCA2(d):\n",
    "    \"\"\"\n",
    "    Calcule la probabilité qu'un patient d'une commune i visite un médecin d'une commune j\n",
    "    en utilisant le modèle SFCA2.\n",
    "\n",
    "    Args:\n",
    "        d (numpy.array): Une matrice de distances. L'élément [i, j] représente la distance\n",
    "            entre la commune i et la commune j.\n",
    "\n",
    "    Returns:\n",
    "        Prob (numpy.array): Une matrice de probabilités de même dimension que d. L'élément [i, j] \n",
    "            représente la probabilité qu'un patient de la commune i visite un médecin de la commune j.\n",
    "    \"\"\"\n",
    "    W = 1.0 / d\n",
    "    Prob = W / np.sum(W, axis=1, keepdims=True)\n",
    "    \n",
    "    return Prob\n",
    "\n"
   ]
  },
  {
   "attachments": {},
   "cell_type": "markdown",
   "id": "80626c36",
   "metadata": {},
   "source": [
    "## 3SFCA :\n",
    "\n",
    "$$\n",
    "W_{i j}=\\frac{1}{d_{i j}} \\hspace{5mm} \\text { et } \\hspace{5mm} \\mathbb{P}_{i j} \\propto W_{i j} S_{j} \\hspace{2.5mm} \\text { i.e } \\hspace{2.5mm} \\mathbb{P}_{i j}=\\frac{W_{i j} S_{j}}{\\sum_{k} W_{i k} S_{k}}\n",
    "$$\n"
   ]
  },
  {
   "cell_type": "code",
   "execution_count": 39,
   "id": "47cf59a4",
   "metadata": {},
   "outputs": [],
   "source": [
    "def Prob_eval_SFCA3(d, S):\n",
    "    \"\"\"\n",
    "    Calcule la matrice de probabilité qu'un patient d'une commune i visite un médecin \n",
    "    d'une commune j en utilisant le modèle SFCA3.\n",
    "    La fonction prend comme entrée une matrice de distances, un vecteur de demandes d'offres \n",
    "    par commune, et un vecteur d'offres de soins par commune. Elle retourne une matrice \n",
    "    de probabilités correspondante.\n",
    "\n",
    "    Args:\n",
    "        d (numpy.array): Une matrice de distances. L'élément [i, j] représente \n",
    "            la distance entre la commune i et la commune j.\n",
    "        S (numpy.array): Un vecteur de l'offre de soins pour chaque commune j.\n",
    "\n",
    "    Returns:\n",
    "        Prob (numpy.array): Une matrice de probabilités de même dimension que d. L'élément [i, j] \n",
    "            représente la probabilité qu'un patient de la commune i visite un médecin de la commune j.\n",
    "    \"\"\"\n",
    "    W = 1.0 / d\n",
    "    WS = W * S\n",
    "    Prob = WS / np.sum(WS, axis=1, keepdims=True)\n",
    "    return Prob"
   ]
  },
  {
   "attachments": {},
   "cell_type": "markdown",
   "id": "163303e2",
   "metadata": {},
   "source": [
    "## Point Fixe :\n",
    "$$\n",
    "W_{i j}=\\frac{1}{d_{i j}} \\hspace{5mm} \\text { et } \\hspace{5mm} \\mathbb{P}_{i j} \\propto W_{i j} R_{j} \\hspace{2.5mm} \\text { i.e } \\hspace{2.5mm} \\mathbb{P}_{i j}=\\frac{W_{i j} R_{j}}{\\sum_{k} W_{i k} R_{k}}\n",
    "$$"
   ]
  },
  {
   "attachments": {},
   "cell_type": "markdown",
   "id": "206b16dd",
   "metadata": {},
   "source": [
    "### Définition des fonctions du point fixe\n",
    "\n",
    "$$\n",
    "F: \\left\\{ \n",
    "\\begin{array}{cl}\n",
    "\\mathbb{R}^{J} \\times \\mathbb{R}^{N \\times J} & \\rightarrow \\mathbb{R}^{J} \\times \\mathbb{R}^{N \\times J} \\\\\n",
    "\\left( R=\\left(R_{j}\\right)_{j}, \\mathbb{P}=\\left(\\mathbb{P}_{i j}\\right)_{i j} \\right) & \\mapsto \\left( F_{1}(\\mathbb{P}), F_{2}(R) \\right) \\\\\n",
    "\\end{array} \n",
    "\\right.\n",
    "$$\n",
    "\n",
    "où $ F_{1}(\\mathbb{P})=\\left(\\frac{S_{j}}{\\sum_{i} P_{i} \\mathbb{P}_{i j}}\\right)_{j} $ et  $ F_{2}(R)=\\left(\\frac{R_{j} W_{i j}}{\\sum_{k} R_{k} W_{i k}}\\right)_{i j} $\n"
   ]
  },
  {
   "cell_type": "code",
   "execution_count": 12,
   "id": "1093c6d9",
   "metadata": {},
   "outputs": [],
   "source": [
    "def calc_Rj(P, Prob, S):\n",
    "    \"\"\"\n",
    "    Calcule le vecteur R où chaque élément R[j] est donné par la formule :\n",
    "    R_j = S_j / (sum_i P_i * Prob_{i,j}).\n",
    "\n",
    "\n",
    "    Args:\n",
    "        P (numpy.array): Un vecteur de la demande d'offre pour chaque commune.\n",
    "        Prob (numpy.array): Une matrice de probabilités. L'élément [i, j] représente \n",
    "            la probabilité qu'un patient de la commune i visite un médecin de la commune j.\n",
    "        S (numpy.array): Un vecteur de l'offre de soins pour chaque commune.\n",
    "\n",
    "    Returns:\n",
    "        numpy.array: Un vecteur R. Chaque élément R[j] est donné par la formule : \n",
    "            R_j = S_j / (sum_i P_i * Prob_{i,j}).\n",
    "    \"\"\"\n",
    "    R = S / np.sum(P[:, np.newaxis] * Prob, axis=0)\n",
    "    return R\n",
    "\n",
    "import numpy as np\n",
    "\n",
    "def calc_Prob_ij(R, W):\n",
    "    \"\"\"\n",
    "    Calcule la matrice de probabilités Prob où chaque élément Prob[i, j] selon le modele du point fixe donné par la formule :\n",
    "    Prob[i, j] = R[j] * W[i, j] / (sum_k R[k] * W[i, k]).\n",
    "\n",
    "    Args:\n",
    "        R (numpy.array): Un vecteur des offres totales par patients potentiels pour chaque commune.\n",
    "        W (numpy.array): Une matrice de perméabilité. L'élément [i, j] représente la perméabilité \n",
    "            entre la commune i et la commune j.\n",
    "\n",
    "    Returns:\n",
    "        numpy.array: Une matrice de probabilités de même dimension que W. L'élément [i, j] \n",
    "            représente la probabilité.\n",
    "    \"\"\"\n",
    "    RW = R * W\n",
    "    Prob = RW / np.sum(RW, axis=1, keepdims=True)\n",
    "    return Prob\n",
    "\n",
    "def F(R, Prob, W, P, S):\n",
    "    \"\"\"\n",
    "    Calcule le nouveau R et Prob en utilisant les fonctions calc_Rj et calc_Prob_ij.\n",
    "\n",
    "    Args:\n",
    "        R (numpy.array): Un vecteur des offres totales par patients potentiels pour chaque commune.\n",
    "        Prob (numpy.array): Une matrice de probabilités.\n",
    "        W (numpy.array): Une matrice des coefficients de perméabilité.\n",
    "        P (numpy.array): Un vecteur des demandes (nombre de patients dans la région i).\n",
    "        S (numpy.array): Un vecteur des offres (par exemple, le nombre d'heures de travail des médecins dans la région j).\n",
    "\n",
    "    Returns:\n",
    "        R_new (numpy.array): Le nouveau vecteur R calculé par la fonction calc_Rj.\n",
    "        Prob_new (numpy.array): La nouvelle matrice de probabilités calculée par la fonction calc_Prob_ij.\n",
    "    \"\"\"\n",
    "    Prob_new = calc_Prob_ij(R, W)\n",
    "    R_new = calc_Rj(P, Prob, S)\n",
    "    return R_new, Prob_new\n"
   ]
  },
  {
   "attachments": {},
   "cell_type": "markdown",
   "id": "08b4bc0e",
   "metadata": {},
   "source": [
    "### Méthode 1 :\n",
    "algorithme classique"
   ]
  },
  {
   "cell_type": "code",
   "execution_count": 44,
   "id": "e3a98457",
   "metadata": {},
   "outputs": [],
   "source": [
    "def Point_fixe_SFCA(W, S, P, maxiter = 10000):\n",
    "    \"\"\"\n",
    "    Implémentation de l'algorithme pour calculer le vecteur R et la matrice Prob avec la méthode du point fixe.\n",
    "\n",
    "    Args:\n",
    "        W (numpy.array): Une matrice des coefficients de perméabilité.\n",
    "        S (numpy.array): Un vecteur des offres (par exemple, le nombre d'heures de travail des médecins dans la région j).\n",
    "        P (numpy.array): Un vecteur des demandes (nombre de patients dans la région i).\n",
    "        maxiter (int): Le nombre l'itération maximale.\n",
    "\n",
    "    Returns:\n",
    "        R (numpy.array): Un vecteur des offres totales par patients potentiels.\n",
    "        Prob (numpy.array): Une matrice de probabilité de connexions.\n",
    "    \"\"\"\n",
    "\n",
    "    R = np.ones_like(S)\n",
    "\n",
    "    for _ in range(maxiter):\n",
    "        \n",
    "        P_prime = R * W\n",
    "        P_prime_row_sum = np.sum(P_prime, axis=1, keepdims=True)\n",
    "        Prob = P_prime / P_prime_row_sum\n",
    "\n",
    "        R = S / np.dot(P.T, Prob)\n",
    "\n",
    "    return R, Prob"
   ]
  },
  {
   "cell_type": "code",
   "execution_count": 45,
   "id": "6b1b8b0b",
   "metadata": {},
   "outputs": [],
   "source": [
    "def find_fixed_point(F, W, P, S, max_iter=10000):\n",
    "    \"\"\"\n",
    "    Trouve le point fixe de la fonction F.\n",
    "\n",
    "    Args:\n",
    "        F (function): La fonction pour laquelle trouver le point fixe.\n",
    "        W (numpy.array): Une matrice des coefficients de perméabilité.\n",
    "        P (numpy.array): Un vecteur des demandes (nombre de patients dans la région i).\n",
    "        S (numpy.array): Un vecteur des offres (par exemple, le nombre d'heures de travail des médecins dans la région j).\n",
    "        tol (float): La tolérance pour la convergence.\n",
    "        max_iter (int): Le nombre maximal d'itérations.\n",
    "\n",
    "    Returns:\n",
    "        R (numpy.array): Le vecteur R au point fixe.\n",
    "        Prob (numpy.array): La matrice de probabilités au point fixe.\n",
    "    \"\"\"\n",
    "\n",
    "    R = np.ones_like(S)\n",
    "    Prob = np.random.rand(len(P), len(S))\n",
    "\n",
    "    for _ in range(max_iter) :\n",
    "        R_new, Prob_new = F(R, Prob, W, P, S)\n",
    "        R = R_new\n",
    "        Prob = Prob_new\n",
    "\n",
    "\n",
    "    return R, Prob\n"
   ]
  },
  {
   "attachments": {},
   "cell_type": "markdown",
   "id": "272054b6",
   "metadata": {},
   "source": [
    "### Méthode 2 : \n",
    "En utilisant Scipy"
   ]
  },
  {
   "cell_type": "code",
   "execution_count": 42,
   "id": "08f49f01",
   "metadata": {},
   "outputs": [],
   "source": [
    "def F_diff(X, W, P, S):\n",
    "    R, Prob = X[:len(S)], X[len(S):].reshape(W.shape)\n",
    "    R_new, Prob_new = F(R, Prob, W, P, S)\n",
    "    return np.concatenate([R_new - R, (Prob_new - Prob).ravel()])\n",
    "\n",
    "def find_fixed_point_2(F, W, P, S, tol=1e-10, max_iter=10000):\n",
    "    R_init = np.ones_like(S)\n",
    "    Prob_init = np.random.rand(len(P), len(S))\n",
    "    X_init = np.concatenate([R_init, Prob_init.ravel()])\n",
    "    sol = root(F_diff, X_init, args=(W, P, S))\n",
    "    if sol.success:\n",
    "        X_fixed = sol.x\n",
    "        R_fixed, Prob_fixed = X_fixed[:len(S)], X_fixed[len(S):].reshape(W.shape)\n",
    "        return R_fixed, Prob_fixed\n",
    "    else:\n",
    "        print(\"La méthode n'a pas convergé.\")\n",
    "\n"
   ]
  },
  {
   "cell_type": "code",
   "execution_count": 33,
   "id": "f9e4b780",
   "metadata": {},
   "outputs": [],
   "source": [
    "# Création de données aléatoires  # Pour rendre les résultats reproductibles\n",
    "W = np.random.rand(5, 5)\n",
    "S = np.random.rand(5)\n",
    "P = np.random.rand(5)"
   ]
  },
  {
   "cell_type": "code",
   "execution_count": 46,
   "id": "d6108983",
   "metadata": {},
   "outputs": [
    {
     "name": "stdout",
     "output_type": "stream",
     "text": [
      "7.208596235890075e-10\n",
      "4.6685244435798397e-11\n"
     ]
    }
   ],
   "source": [
    "R_fixed,Prob_fixed = find_fixed_point_2(F, W, P, S)\n",
    "print(np.linalg.norm(F(R_fixed, Prob_fixed, W, P, S)[0] - R_fixed))\n",
    "print(np.linalg.norm(F(R_fixed, Prob_fixed, W, P, S)[1] - Prob_fixed))"
   ]
  },
  {
   "cell_type": "code",
   "execution_count": 47,
   "id": "6075c916",
   "metadata": {},
   "outputs": [
    {
     "name": "stdout",
     "output_type": "stream",
     "text": [
      "3.1401849173675503e-16\n",
      "2.0301975233231525e-07\n"
     ]
    }
   ],
   "source": [
    "R_fixed,Prob_fixed = Point_fixe_SFCA(W, S, P)\n",
    "print(np.linalg.norm(F(R_fixed, Prob_fixed, W, P, S)[0] - R_fixed))\n",
    "print(np.linalg.norm(F(R_fixed, Prob_fixed, W, P, S)[1] - Prob_fixed))"
   ]
  },
  {
   "cell_type": "code",
   "execution_count": 48,
   "id": "827ad0fc",
   "metadata": {},
   "outputs": [
    {
     "name": "stdout",
     "output_type": "stream",
     "text": [
      "0.00026858115593428783\n",
      "1.6637534428730296e-06\n"
     ]
    }
   ],
   "source": [
    "R_fixed,Prob_fixed = find_fixed_point(F, W, P, S)\n",
    "print(np.linalg.norm(F(R_fixed, Prob_fixed, W, P, S)[0] - R_fixed))\n",
    "print(np.linalg.norm(F(R_fixed, Prob_fixed, W, P, S)[1] - Prob_fixed))"
   ]
  }
 ],
 "metadata": {
  "kernelspec": {
   "display_name": "Python 3 (ipykernel)",
   "language": "python",
   "name": "python3"
  },
  "language_info": {
   "codemirror_mode": {
    "name": "ipython",
    "version": 3
   },
   "file_extension": ".py",
   "mimetype": "text/x-python",
   "name": "python",
   "nbconvert_exporter": "python",
   "pygments_lexer": "ipython3",
   "version": "3.10.9"
  }
 },
 "nbformat": 4,
 "nbformat_minor": 5
}
